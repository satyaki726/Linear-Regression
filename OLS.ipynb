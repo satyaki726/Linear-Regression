{
 "cells": [
  {
   "cell_type": "markdown",
   "metadata": {},
   "source": [
    "# In this task you have to build Linear Regression algorithm from scratch which can handle 2D datasets using the OLS method.\n",
    "\n",
    "Create a class with the name of LinearRegression, and also add 2 methods in it:\n",
    "\n",
    "1. The fit method, which will be used to train your model.\n",
    "\n",
    "2. The predict method, which will do the prediction"
   ]
  },
  {
   "cell_type": "code",
   "execution_count": 93,
   "metadata": {},
   "outputs": [],
   "source": [
    "import numpy as np\n",
    "import pandas as pd\n",
    "import matplotlib.pyplot as plt"
   ]
  },
  {
   "cell_type": "code",
   "execution_count": 94,
   "metadata": {},
   "outputs": [],
   "source": [
    "data=pd.read_csv(\"Salary_data.csv\")"
   ]
  },
  {
   "cell_type": "code",
   "execution_count": 108,
   "metadata": {},
   "outputs": [
    {
     "data": {
      "text/html": [
       "<div>\n",
       "<style scoped>\n",
       "    .dataframe tbody tr th:only-of-type {\n",
       "        vertical-align: middle;\n",
       "    }\n",
       "\n",
       "    .dataframe tbody tr th {\n",
       "        vertical-align: top;\n",
       "    }\n",
       "\n",
       "    .dataframe thead th {\n",
       "        text-align: right;\n",
       "    }\n",
       "</style>\n",
       "<table border=\"1\" class=\"dataframe\">\n",
       "  <thead>\n",
       "    <tr style=\"text-align: right;\">\n",
       "      <th></th>\n",
       "      <th>YearsExperience</th>\n",
       "      <th>Salary</th>\n",
       "    </tr>\n",
       "  </thead>\n",
       "  <tbody>\n",
       "    <tr>\n",
       "      <th>0</th>\n",
       "      <td>1.1</td>\n",
       "      <td>39343.0</td>\n",
       "    </tr>\n",
       "    <tr>\n",
       "      <th>1</th>\n",
       "      <td>1.3</td>\n",
       "      <td>46205.0</td>\n",
       "    </tr>\n",
       "    <tr>\n",
       "      <th>2</th>\n",
       "      <td>1.5</td>\n",
       "      <td>37731.0</td>\n",
       "    </tr>\n",
       "    <tr>\n",
       "      <th>3</th>\n",
       "      <td>2.0</td>\n",
       "      <td>43525.0</td>\n",
       "    </tr>\n",
       "    <tr>\n",
       "      <th>4</th>\n",
       "      <td>2.2</td>\n",
       "      <td>39891.0</td>\n",
       "    </tr>\n",
       "  </tbody>\n",
       "</table>\n",
       "</div>"
      ],
      "text/plain": [
       "   YearsExperience   Salary\n",
       "0              1.1  39343.0\n",
       "1              1.3  46205.0\n",
       "2              1.5  37731.0\n",
       "3              2.0  43525.0\n",
       "4              2.2  39891.0"
      ]
     },
     "execution_count": 108,
     "metadata": {},
     "output_type": "execute_result"
    }
   ],
   "source": [
    "data.head()"
   ]
  },
  {
   "cell_type": "markdown",
   "metadata": {},
   "source": [
    "# Plotting the Salary vs YearsExperience"
   ]
  },
  {
   "cell_type": "code",
   "execution_count": 96,
   "metadata": {},
   "outputs": [
    {
     "data": {
      "text/plain": [
       "<matplotlib.collections.PathCollection at 0x1c1232a6a58>"
      ]
     },
     "execution_count": 96,
     "metadata": {},
     "output_type": "execute_result"
    },
    {
     "data": {
      "image/png": "[encoded data removed]",
      "text/plain": [
       "<Figure size 432x288 with 1 Axes>"
      ]
     },
     "metadata": {},
     "output_type": "display_data"
    }
   ],
   "source": [
    "m=data['YearsExperience']\n",
    "n=data['Salary']\n",
    "plt.scatter(m,n)"
   ]
  },
  {
   "cell_type": "markdown",
   "metadata": {},
   "source": [
    "# Splitting the data in X(train,test),y(train,test)"
   ]
  },
  {
   "cell_type": "code",
   "execution_count": 109,
   "metadata": {},
   "outputs": [],
   "source": [
    "X=data.iloc[:,0:1]"
   ]
  },
  {
   "cell_type": "code",
   "execution_count": 98,
   "metadata": {},
   "outputs": [],
   "source": [
    "y=data.iloc[:,1]"
   ]
  },
  {
   "cell_type": "code",
   "execution_count": 99,
   "metadata": {},
   "outputs": [
    {
     "data": {
      "text/plain": [
       "(30, 1)"
      ]
     },
     "execution_count": 99,
     "metadata": {},
     "output_type": "execute_result"
    }
   ],
   "source": [
    "X.shape"
   ]
  },
  {
   "cell_type": "code",
   "execution_count": 100,
   "metadata": {},
   "outputs": [
    {
     "data": {
      "text/plain": [
       "(30,)"
      ]
     },
     "execution_count": 100,
     "metadata": {},
     "output_type": "execute_result"
    }
   ],
   "source": [
    "y.shape"
   ]
  },
  {
   "cell_type": "code",
   "execution_count": 101,
   "metadata": {},
   "outputs": [],
   "source": [
    "from sklearn.model_selection import train_test_split\n",
    "X_train,X_test,y_train,y_test=train_test_split(X,y,test_size=0.2)"
   ]
  },
  {
   "cell_type": "code",
   "execution_count": 102,
   "metadata": {},
   "outputs": [
    {
     "data": {
      "text/plain": [
       "(24, 1)"
      ]
     },
     "execution_count": 102,
     "metadata": {},
     "output_type": "execute_result"
    }
   ],
   "source": [
    "X_train.shape"
   ]
  },
  {
   "cell_type": "code",
   "execution_count": 103,
   "metadata": {},
   "outputs": [
    {
     "data": {
      "text/plain": [
       "(24,)"
      ]
     },
     "execution_count": 103,
     "metadata": {},
     "output_type": "execute_result"
    }
   ],
   "source": [
    "y_train.shape"
   ]
  },
  {
   "cell_type": "markdown",
   "metadata": {},
   "source": [
    "# Creating a User defined class for Linear Regression:"
   ]
  },
  {
   "cell_type": "code",
   "execution_count": 106,
   "metadata": {},
   "outputs": [],
   "source": [
    "class LinearRegression:\n",
    "    def fit(self,data,X_train,y_train):\n",
    "        data=data\n",
    "        X_train=X_train\n",
    "        self.x_mean=X_train[\"YearsExperience\"].mean()\n",
    "        self.y_mean=y_train.mean()\n",
    "        diff1=[]\n",
    "        diff2=[]\n",
    "        diff3=[]\n",
    "        line=[]\n",
    "        sum1=0\n",
    "        sum2=0\n",
    "        for j in X_train[\"YearsExperience\"]:\n",
    "            a=j-self.x_mean\n",
    "            a1=a**2\n",
    "            diff1.append(a)\n",
    "            diff2.append(a1)\n",
    "        for k in y_train:\n",
    "            a2=k-self.y_mean\n",
    "            diff3.append(a2)\n",
    "        for i in range(X_train[\"YearsExperience\"].count()):\n",
    "            mul1=diff1[i]*diff3[i]\n",
    "            sum1=sum1+mul1\n",
    "            sum2=sum2+diff2[i]\n",
    "        self.m=s1/s2    \n",
    "        self.b=self.y_mean-(self.m*self.x_mean)\n",
    "        for q in X_train[\"YearsExperience\"]:\n",
    "            y=(self.m*q)+self.b\n",
    "            line.append(y)\n",
    "        m1=data['YearsExperience']\n",
    "        n1=data['Salary']    \n",
    "        print(plt.plot(X_train,line))\n",
    "        print(plt.scatter(m1,n1))\n",
    "    def predict(self,X_test,y_test):\n",
    "        X_test=X_test\n",
    "        y_test=y_test\n",
    "        y_pred=[]\n",
    "        for i in X_test[\"YearsExperience\"]:\n",
    "            a=self.m*i+self.b\n",
    "            y_pred.append(a)\n",
    "        from sklearn.metrics import r2_score\n",
    "        print(\"The accuracy is:\",r2_score(y_test,y_pred))\n",
    "        new=pd.DataFrame()\n",
    "        new[\"YearsExperience\"]=X_test[\"YearsExperience\"]\n",
    "        new[\"Salary\"]=y_test\n",
    "        new[\"Salary_predicted\"]=y_pred\n",
    "        print(new)"
   ]
  },
  {
   "cell_type": "markdown",
   "metadata": {},
   "source": [
    "# Output"
   ]
  },
  {
   "cell_type": "code",
   "execution_count": 107,
   "metadata": {},
   "outputs": [
    {
     "name": "stdout",
     "output_type": "stream",
     "text": [
      "[<matplotlib.lines.Line2D object at 0x000001C123581FD0>]\n",
      "<matplotlib.collections.PathCollection object at 0x000001C123582630>\n",
      "The accuracy is: 0.9697090838335324\n",
      "    YearsExperience    Salary  Salary_predicted\n",
      "12              4.0   56957.0      64594.458527\n",
      "29             10.5  121872.0     125217.370171\n",
      "27              9.6  112635.0     116823.428559\n",
      "2               1.5   37731.0      41277.954048\n",
      "11              4.0   55794.0      64594.458527\n",
      "5               2.9   56642.0      54335.196556\n"
     ]
    },
    {
     "data": {
      "image/png": "[encoded data removed]",
      "text/plain": [
       "<Figure size 432x288 with 1 Axes>"
      ]
     },
     "metadata": {},
     "output_type": "display_data"
    }
   ],
   "source": [
    "Lr=LinearRegression()\n",
    "Lr.fit(data,X_train,y_train)\n",
    "Lr.predict(X_test,y_test)"
   ]
  }
 ],
 "metadata": {
  "kernelspec": {
   "display_name": "Python 3",
   "language": "python",
   "name": "python3"
  },
  "language_info": {
   "codemirror_mode": {
    "name": "ipython",
    "version": 3
   },
   "file_extension": ".py",
   "mimetype": "text/x-python",
   "name": "python",
   "nbconvert_exporter": "python",
   "pygments_lexer": "ipython3",
   "version": "3.6.5"
  }
 },
 "nbformat": 4,
 "nbformat_minor": 2
}
